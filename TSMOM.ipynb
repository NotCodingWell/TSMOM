{
 "cells": [
  {
   "cell_type": "code",
   "execution_count": 11,
   "metadata": {},
   "outputs": [],
   "source": [
    "import numpy as np\n",
    "import pandas as pd\n",
    "import datetime\n",
    "import matplotlib.pyplot as plt\n",
    "import matplotlib\n",
    "import seaborn as sns\n",
    "import pytz\n",
    "import yfinance as yf"
   ]
  },
  {
   "cell_type": "code",
   "execution_count": 12,
   "metadata": {},
   "outputs": [],
   "source": [
    "tolerance = 0.\n",
    "k = 12\n",
    "h = 2\n",
    "\n",
    "# rule = 'BME'\n",
    "\n",
    "time_range = '5y'\n",
    "\n",
    "start_time = '2019-12-31'\n",
    "end_time = '2024-01-01'\n",
    "\n",
    "# Vol scaling\n",
    "vol_flag = 0                  # Set flag to 1 for vol targeting\n",
    "if vol_flag == 1:\n",
    "    target_vol = 0.4 # Can be changed\n",
    "else:\n",
    "    target_vol = 'no target vol'\n"
   ]
  },
  {
   "cell_type": "code",
   "execution_count": 13,
   "metadata": {},
   "outputs": [],
   "source": [
    "# tickers = pd.read_html( 'https://en.wikipedia.org/wiki/List_of_S%26P_500_companies')[0]\n",
    "\n",
    "# # stock_list = tickers['Symbol'].to_list()\n",
    "# print(tickers)\n",
    "# stock_list = tickers['Symbol'][:50]"
   ]
  },
  {
   "cell_type": "code",
   "execution_count": 14,
   "metadata": {},
   "outputs": [],
   "source": [
    "def US_Stock_data():\n",
    "\n",
    "    stock_list = pd.read_html( 'https://en.wikipedia.org/wiki/EURO_STOXX_50')[4]['Ticker'][1:].to_list()\n",
    "    futures = pd.DataFrame(columns= stock_list)\n",
    "\n",
    "    time_index = list(yf.Ticker(stock_list[0]).history(period = time_range,start = start_time, end = end_time).index)\n",
    "    flag = 0\n",
    "\n",
    "    for symbol in stock_list:\n",
    "        df = yf.Ticker(symbol).history(period = time_range, start = start_time, end = end_time)\n",
    "        df = pd.DataFrame(df['Close'])\n",
    "        i = 0\n",
    "        daily_return = []\n",
    "        for k in df['Close']:\n",
    "            if i != 0:\n",
    "                daily_return.append(float((k-i)/i))\n",
    "            else:\n",
    "                daily_return.append(float(0))\n",
    "            i = k\n",
    "        if time_index != list(df.index): flag +=1\n",
    "        try:\n",
    "            futures[symbol] = daily_return\n",
    "        except:\n",
    "            print(symbol)\n",
    "            print(len(daily_return)) # Check differnet time index\n",
    "            while len(daily_return) < len(futures):\n",
    "                daily_return.insert(0,float(0))\n",
    "            futures[symbol] = daily_return\n",
    "\n",
    "    futures.index = time_index\n",
    "    futures = futures.iloc[1:, :]\n",
    "\n",
    "\n",
    "    # print(flag) # Check differnet time index\n",
    "\n",
    "    futures['Date'] = pd.to_datetime(futures.index, format='%Y-%m-%d')\n",
    "    futures.set_index('Date', inplace=True)\n",
    "\n",
    "    return futures"
   ]
  },
  {
   "cell_type": "code",
   "execution_count": 15,
   "metadata": {},
   "outputs": [],
   "source": [
    "def Volatility_scale(data):\n",
    "\n",
    "    std_index = data.index\n",
    "\n",
    "    daily_index = pd.DataFrame(index=std_index)\n",
    "\n",
    "    for oo in data.columns:\n",
    "        returns = data[oo]\n",
    "        returns.dropna(inplace=True)\n",
    "    \n",
    "        # first_date = returns.index[0].strftime(\"%Y-%m-%d\")   # store this to show when data series starts\n",
    "    \n",
    "        ret_index = (1 + returns).cumprod()\n",
    "        ret_index[0] = 1\n",
    "    \n",
    "        # equation (1) ex ante vol estimate\n",
    "        day_vol = returns.ewm(ignore_na=False,\n",
    "                          adjust=True,\n",
    "                          com=60,   \n",
    "                          min_periods=0).std(bias=False)\n",
    "        vol = day_vol * np.sqrt(261) # annualise\n",
    "    \n",
    "        ret_index = pd.concat([ret_index, vol], axis=1)\n",
    "        ret_index.columns = [oo, oo + '_Vol']\n",
    "\n",
    "        daily_index = pd.concat([daily_index, ret_index], axis=1)\n",
    "\n",
    "    return daily_index"
   ]
  },
  {
   "cell_type": "code",
   "execution_count": null,
   "metadata": {},
   "outputs": [],
   "source": [
    "def backtest_strategy(data,k = k, h = h):\n",
    "\n",
    "    pnl = pd.DataFrame(index=data.index)\n",
    "    leverage = pd.DataFrame(index=data.index)\n",
    "    strategy_cumm_rtns = pd.DataFrame(index=data.index)\n",
    "\n",
    "\n",
    "    daily_index = Volatility_scale(data)\n",
    "\n",
    "    company = data.columns\n",
    "\n",
    "\n",
    "    for oo in company:\n",
    "        df = pd.concat([daily_index[oo], daily_index[oo+\"_Vol\"]], axis=1)\n",
    "        df['returns'] = df[oo].pct_change(k)\n",
    "    \n",
    "        df['pnl'] = 0.\n",
    "        df['leverage'] = 0.\n",
    "        try:\n",
    "            for x, v in enumerate(df['returns']):\n",
    "                if x <= k:\n",
    "                # skip the first look back observations\n",
    "                    continue\n",
    "                if df['returns'].iloc[x-h] < tolerance:\n",
    "                # negative returns, sell and hold for h day, then close position\n",
    "                    if vol_flag == 1:\n",
    "                        df['pnl'].iloc[x] = (df[oo].iloc[x - h] / df[oo].iloc[x] - 1) * \\\n",
    "                                        target_vol / df[oo+\"_Vol\"].iloc[x - h]\n",
    "                        df['leverage'].iloc[x] = target_vol / df[oo+\"_Vol\"].iloc[x - h]\n",
    "                    else:\n",
    "                        df['pnl'].iloc[x] = (df[oo].iloc[x - h] / df[oo].iloc[x] - 1)                   \n",
    "                        df['leverage'].iloc[x] = 1.\n",
    "                elif df['returns'].iloc[x-1] > tolerance:\n",
    "                # positive returns, buy and hold for h day, then close position\n",
    "                    if vol_flag == 1:\n",
    "                        df['pnl'].iloc[x] = (df[oo].iloc[x] / df[oo].iloc[x - h] - 1) * \\\n",
    "                                        target_vol / df[oo+\"_Vol\"].iloc[x - h]\n",
    "                        df['leverage'].iloc[x] = target_vol / df[oo+\"_Vol\"].iloc[x - h]\n",
    "                    else:\n",
    "                        df['pnl'].iloc[x] = (df[oo].iloc[x] / df[oo].iloc[x - h] - 1) \n",
    "                        df['leverage'].iloc[x] = 1.\n",
    "                df = df[:-1]\n",
    "        except: pass    \n",
    "        # convert to cummulative index\n",
    "        pnl = pd.concat([pnl, df['pnl']], axis=1)\n",
    "        leverage = pd.concat([leverage, df['leverage']], axis=1)\n",
    "    \n",
    "        ret_index = (1 + df['pnl'][13:]).cumprod()\n",
    "        ret_index[0] = 1\n",
    "        strategy_cumm_rtns = pd.concat([strategy_cumm_rtns, ret_index], axis=1) \n",
    "\n",
    "\n",
    "    pnl.columns = data.columns\n",
    "    leverage.columns = leverage.columns\n",
    "    strategy_cumm_rtns.columns = data.columns\n",
    "    df = pnl\n",
    "    df['port_avg'] = df.mean(skipna = False, axis=1)\n",
    "\n",
    "    return df['port_avg']"
   ]
  },
  {
   "cell_type": "code",
   "execution_count": null,
   "metadata": {},
   "outputs": [],
   "source": [
    "def strategy_stat(data):\n",
    "    return [data.mean(), data.std(), data.mean()/data.std(), data.min()]"
   ]
  },
  {
   "cell_type": "code",
   "execution_count": null,
   "metadata": {},
   "outputs": [],
   "source": [
    "# Strategy = df['port_avg'].copy()\n",
    "# Strategy.name = \"TSMOM with Vol\"\n",
    "# dataport_index = (1 + df['port_avg']).cumprod()"
   ]
  },
  {
   "cell_type": "code",
   "execution_count": null,
   "metadata": {},
   "outputs": [],
   "source": [
    "# plt.plot(backtest_strategy(US_Stock_data()))"
   ]
  },
  {
   "cell_type": "code",
   "execution_count": null,
   "metadata": {},
   "outputs": [],
   "source": [
    "# stats = pd.DataFrame(columns=['k','h', \"Mean\", \"Std\", \"Sharpe_ratio\",\"Max drawdown\"])\n",
    "\n",
    "# for m in range(1,31):\n",
    "#     for n in range(1,31):\n",
    "#         temp = strategy_stat(backtest_strategy(US_Stock_data(),m,n))\n",
    "#         temp.insert(0,n)\n",
    "#         temp.insert(0,m)\n",
    "#         stats.loc[len(stats.index)] = temp\n",
    "\n",
    "# stats"
   ]
  },
  {
   "cell_type": "code",
   "execution_count": null,
   "metadata": {},
   "outputs": [],
   "source": [
    "# print (\"Annualized Sharpe Ratio = \", empyrical.sharpe_ratio(df['port_avg'], period='monthly'))\n",
    "# print (\"Annualized Mean Returns = \", empyrical.annual_return(df['port_avg'], period='monthly'))\n",
    "# print (\"Annualized Standard Deviations = \", empyrical.annual_volatility(df['port_avg'], period='monthly'))"
   ]
  },
  {
   "cell_type": "code",
   "execution_count": null,
   "metadata": {},
   "outputs": [],
   "source": [
    "# print(\"Max Drawdown = \", empyrical.max_drawdown(df['port_avg']))\n",
    "# print(\"Calmar ratio = \", empyrical.calmar_ratio(df['port_avg'], period='monthly'))"
   ]
  }
 ],
 "metadata": {
  "kernelspec": {
   "display_name": "Python 3",
   "language": "python",
   "name": "python3"
  },
  "language_info": {
   "codemirror_mode": {
    "name": "ipython",
    "version": 3
   },
   "file_extension": ".py",
   "mimetype": "text/x-python",
   "name": "python",
   "nbconvert_exporter": "python",
   "pygments_lexer": "ipython3",
   "version": "3.12.7"
  }
 },
 "nbformat": 4,
 "nbformat_minor": 2
}
