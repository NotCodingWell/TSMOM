{
 "cells": [
  {
   "cell_type": "code",
   "execution_count": 5,
   "metadata": {},
   "outputs": [],
   "source": [
    "import numpy as np\n",
    "import pandas as pd\n",
    "import datetime\n",
    "import matplotlib.pyplot as plt\n",
    "import matplotlib\n",
    "import seaborn as sns\n",
    "import pytz\n",
    "import yfinance as yf"
   ]
  },
  {
   "cell_type": "code",
   "execution_count": 7,
   "metadata": {},
   "outputs": [],
   "source": [
    "tolerance = 0.\n",
    "look_back = 12\n",
    "h = 2\n",
    "\n",
    "rule = 'BME'\n",
    "\n",
    "list_choice = 'technology'\n",
    "\n",
    "time_range = '5y'\n",
    "\n",
    "start_time = '2019-12-31'\n",
    "end_time = '2024-01-01'\n",
    "\n",
    "# Vol scaling\n",
    "vol_flag = 0                  # Set flag to 1 for vol targeting\n",
    "if vol_flag == 1:\n",
    "    target_vol = 0.4 # Can be changed\n",
    "else:\n",
    "    target_vol = 'no target vol'\n"
   ]
  },
  {
   "cell_type": "code",
   "execution_count": 8,
   "metadata": {},
   "outputs": [],
   "source": [
    "def US_Stock_data():\n",
    "    tickers = pd.read_html( 'https://en.wikipedia.org/wiki/List_of_S%26P_500_companies')[0]\n",
    "\n",
    "    stock_list = tickers['Symbol'].to_list()\n",
    "    futures = pd.DataFrame(columns= stock_list)\n",
    "\n",
    "    time_index = list(yf.Ticker(stock_list[0]).history(period = time_range,start = start_time, end = end_time).index)\n",
    "    flag = 0\n",
    "\n",
    "    for symbol in stock_list:\n",
    "        df = yf.Ticker(symbol).history(period = time_range, start = start_time, end = end_time)\n",
    "        df = pd.DataFrame(df['Close'])\n",
    "        i = 0\n",
    "        daily_return = []\n",
    "        for k in df['Close']:\n",
    "            if i != 0:\n",
    "                daily_return.append(float((k-i)/i))\n",
    "            else:\n",
    "                daily_return.append(float(0))\n",
    "            i = k\n",
    "        if time_index != list(df.index): flag +=1\n",
    "        try:\n",
    "            futures[symbol] = daily_return\n",
    "        except:\n",
    "            print(symbol)\n",
    "            print(len(daily_return)) # Check differnet time index\n",
    "            while len(daily_return) < len(futures):\n",
    "                daily_return.insert(0,float(0))\n",
    "            futures[symbol] = daily_return\n",
    "\n",
    "    futures.index = time_index\n",
    "    futures = futures.iloc[1:, :]\n",
    "\n",
    "\n",
    "    # print(flag) # Check differnet time index\n",
    "\n",
    "    return futures"
   ]
  },
  {
   "cell_type": "code",
   "execution_count": 9,
   "metadata": {},
   "outputs": [
    {
     "name": "stdout",
     "output_type": "stream",
     "text": [
      "ABNB\n",
      "768\n"
     ]
    },
    {
     "name": "stderr",
     "output_type": "stream",
     "text": [
      "$AMTM: possibly delisted; no price data found  (1d 2019-12-31 -> 2024-01-01) (Yahoo error = \"Data doesn't exist for startDate = 1577768400, endDate = 1704085200\")\n"
     ]
    },
    {
     "name": "stdout",
     "output_type": "stream",
     "text": [
      "AMTM\n",
      "0\n"
     ]
    },
    {
     "name": "stderr",
     "output_type": "stream",
     "text": [
      "$BRK.B: possibly delisted; no timezone found\n"
     ]
    },
    {
     "name": "stdout",
     "output_type": "stream",
     "text": [
      "BRK.B\n",
      "0\n"
     ]
    },
    {
     "name": "stderr",
     "output_type": "stream",
     "text": [
      "$BF.B: possibly delisted; no price data found  (1d 2019-12-31 -> 2024-01-01)\n"
     ]
    },
    {
     "name": "stdout",
     "output_type": "stream",
     "text": [
      "BF.B\n",
      "0\n",
      "CARR\n",
      "953\n",
      "CEG\n",
      "490\n"
     ]
    },
    {
     "name": "stderr",
     "output_type": "stream",
     "text": [
      "GEHC: Period '5y' is invalid, must be one of ['1d', '5d', '1mo', '3mo', '6mo', '1y', '2y', 'ytd', 'max']\n"
     ]
    },
    {
     "name": "stdout",
     "output_type": "stream",
     "text": [
      "GEHC\n",
      "0\n"
     ]
    },
    {
     "name": "stderr",
     "output_type": "stream",
     "text": [
      "$GEV: possibly delisted; no price data found  (1d 2019-12-31 -> 2024-01-01) (Yahoo error = \"Data doesn't exist for startDate = 1577768400, endDate = 1704085200\")\n"
     ]
    },
    {
     "name": "stdout",
     "output_type": "stream",
     "text": [
      "GEV\n",
      "0\n"
     ]
    },
    {
     "name": "stderr",
     "output_type": "stream",
     "text": [
      "KVUE: Period '5y' is invalid, must be one of ['1d', '5d', '1mo', '3mo', '6mo', '1y', '2y', 'ytd', 'max']\n"
     ]
    },
    {
     "name": "stdout",
     "output_type": "stream",
     "text": [
      "KVUE\n",
      "0\n",
      "OTIS\n",
      "953\n",
      "PLTR\n",
      "818\n"
     ]
    },
    {
     "name": "stderr",
     "output_type": "stream",
     "text": [
      "$SW: possibly delisted; no price data found  (1d 2019-12-31 -> 2024-01-01) (Yahoo error = \"Data doesn't exist for startDate = 1577768400, endDate = 1704085200\")\n"
     ]
    },
    {
     "name": "stdout",
     "output_type": "stream",
     "text": [
      "SW\n",
      "0\n"
     ]
    },
    {
     "name": "stderr",
     "output_type": "stream",
     "text": [
      "$SOLV: possibly delisted; no price data found  (1d 2019-12-31 -> 2024-01-01) (Yahoo error = \"Data doesn't exist for startDate = 1577768400, endDate = 1704085200\")\n"
     ]
    },
    {
     "name": "stdout",
     "output_type": "stream",
     "text": [
      "SOLV\n",
      "0\n"
     ]
    },
    {
     "name": "stderr",
     "output_type": "stream",
     "text": [
      "VLTO: Period '5y' is invalid, must be one of ['1d', '5d', '1mo', '3mo', '6mo', '1y', '2y', 'ytd', 'max']\n"
     ]
    },
    {
     "name": "stdout",
     "output_type": "stream",
     "text": [
      "VLTO\n",
      "0\n"
     ]
    }
   ],
   "source": [
    "futures = US_Stock_data()"
   ]
  },
  {
   "cell_type": "code",
   "execution_count": 11,
   "metadata": {},
   "outputs": [
    {
     "name": "stderr",
     "output_type": "stream",
     "text": [
      "C:\\Users\\hungl\\AppData\\Local\\Temp\\ipykernel_18260\\1076014402.py:2: PerformanceWarning: DataFrame is highly fragmented.  This is usually the result of calling `frame.insert` many times, which has poor performance.  Consider joining all columns at once using pd.concat(axis=1) instead. To get a de-fragmented frame, use `newframe = frame.copy()`\n",
      "  res['Date'] = pd.to_datetime(res.index, format='%Y-%m-%d')\n"
     ]
    }
   ],
   "source": [
    "res = futures\n",
    "res['Date'] = pd.to_datetime(res.index, format='%Y-%m-%d')\n",
    "res.set_index('Date', inplace=True)"
   ]
  },
  {
   "cell_type": "code",
   "execution_count": 12,
   "metadata": {},
   "outputs": [],
   "source": [
    "company = res.columns\n"
   ]
  },
  {
   "cell_type": "code",
   "execution_count": 13,
   "metadata": {},
   "outputs": [],
   "source": [
    "def Volatility_scale(res):\n",
    "\n",
    "    std_index = res.index\n",
    "\n",
    "    daily_index = pd.DataFrame(index=std_index)\n",
    "\n",
    "    for oo in res.columns:\n",
    "        returns = res[oo]\n",
    "        returns.dropna(inplace=True)\n",
    "    \n",
    "        first_date = returns.index[0].strftime(\"%Y-%m-%d\")   # store this to show when data series starts\n",
    "    \n",
    "        ret_index = (1 + returns).cumprod()\n",
    "        ret_index[0] = 1\n",
    "    \n",
    "        # equation (1) ex ante vol estimate\n",
    "        day_vol = returns.ewm(ignore_na=False,\n",
    "                          adjust=True,\n",
    "                          com=60,   \n",
    "                          min_periods=0).std(bias=False)\n",
    "        vol = day_vol * np.sqrt(261) # annualise\n",
    "    \n",
    "        ret_index = pd.concat([ret_index, vol], axis=1)\n",
    "        ret_index.columns = [oo, oo + '_Vol']\n",
    "\n",
    "        daily_index = pd.concat([daily_index, ret_index], axis=1)\n",
    "\n",
    "    return daily_index"
   ]
  },
  {
   "cell_type": "code",
   "execution_count": null,
   "metadata": {},
   "outputs": [],
   "source": []
  },
  {
   "cell_type": "code",
   "execution_count": 14,
   "metadata": {},
   "outputs": [],
   "source": [
    "def backtest_strategy(k = look_back, h = h):\n",
    "\n",
    "    pnl = pd.DataFrame(index=res.index)\n",
    "    leverage = pd.DataFrame(index=res.index)\n",
    "    strategy_cumm_rtns = pd.DataFrame(index=res.index)\n",
    "\n",
    "\n",
    "    daily_index = Volatility_scale(res)\n",
    "\n",
    "    for oo in company:\n",
    "        df = pd.concat([daily_index[oo], daily_index[oo+\"_Vol\"]], axis=1)\n",
    "        df['returns'] = df[oo].pct_change(look_back)\n",
    "    \n",
    "        df['pnl'] = 0.\n",
    "        df['leverage'] = 0.\n",
    "        try:\n",
    "            for k, v in enumerate(df['returns']):\n",
    "                if k <= look_back:\n",
    "                # skip the first look back observations\n",
    "                    continue\n",
    "                if df['returns'].iloc[k-h] < tolerance:\n",
    "                # negative returns, sell and hold for h day, then close position\n",
    "                    if vol_flag == 1:\n",
    "                        df['pnl'].iloc[k] = (df[oo].iloc[k - h] / df[oo].iloc[k] - 1) * \\\n",
    "                                        target_vol / df[oo+\"_Vol\"].iloc[k - h]\n",
    "                        df['leverage'].iloc[k] = target_vol / df[oo+\"_Vol\"].iloc[k - h]\n",
    "                    else:\n",
    "                        df['pnl'].iloc[k] = (df[oo].iloc[k - h] / df[oo].iloc[k] - 1)                   \n",
    "                        df['leverage'].iloc[k] = 1.\n",
    "                elif df['returns'].iloc[k-1] > tolerance:\n",
    "                # positive returns, buy and hold for h day, then close position\n",
    "                    if vol_flag == 1:\n",
    "                        df['pnl'].iloc[k] = (df[oo].iloc[k] / df[oo].iloc[k - h] - 1) * \\\n",
    "                                        target_vol / df[oo+\"_Vol\"].iloc[k - h]\n",
    "                        df['leverage'].iloc[k] = target_vol / df[oo+\"_Vol\"].iloc[k - h]\n",
    "                    else:\n",
    "                        df['pnl'].iloc[k] = (df[oo].iloc[k] / df[oo].iloc[k - h] - 1) \n",
    "                        df['leverage'].iloc[k] = 1.\n",
    "                df = df[:-1]\n",
    "        except: pass    \n",
    "        # convert to cummulative index\n",
    "        pnl = pd.concat([pnl, df['pnl']], axis=1)\n",
    "        leverage = pd.concat([leverage, df['leverage']], axis=1)\n",
    "    \n",
    "        ret_index = (1 + df['pnl'][13:]).cumprod()\n",
    "        ret_index[0] = 1\n",
    "        strategy_cumm_rtns = pd.concat([strategy_cumm_rtns, ret_index], axis=1) \n",
    "\n",
    "\n",
    "    pnl.columns = res.columns\n",
    "    leverage.columns = leverage.columns\n",
    "    strategy_cumm_rtns.columns = res.columns\n",
    "    df = pnl\n",
    "    df['port_avg'] = df.mean(skipna = False, axis=1)\n",
    "\n",
    "    Strategy = df['port_avg'].copy()\n",
    "    Strategy.name = \"TSMOM with Vol\"\n",
    "    dataport_index = (1 + df['port_avg']).cumprod()\n",
    "\n",
    "    return dataport_index"
   ]
  },
  {
   "cell_type": "code",
   "execution_count": null,
   "metadata": {},
   "outputs": [],
   "source": [
    "plt.plot(backtest_strategy())"
   ]
  },
  {
   "cell_type": "code",
   "execution_count": 15,
   "metadata": {},
   "outputs": [
    {
     "ename": "NameError",
     "evalue": "name 'df' is not defined",
     "output_type": "error",
     "traceback": [
      "\u001b[1;31m---------------------------------------------------------------------------\u001b[0m",
      "\u001b[1;31mNameError\u001b[0m                                 Traceback (most recent call last)",
      "Cell \u001b[1;32mIn[15], line 1\u001b[0m\n\u001b[1;32m----> 1\u001b[0m \u001b[43mdf\u001b[49m[\u001b[38;5;124m'\u001b[39m\u001b[38;5;124mport_avg\u001b[39m\u001b[38;5;124m'\u001b[39m]\n",
      "\u001b[1;31mNameError\u001b[0m: name 'df' is not defined"
     ]
    }
   ],
   "source": [
    "df['port_avg']"
   ]
  },
  {
   "cell_type": "code",
   "execution_count": null,
   "metadata": {},
   "outputs": [
    {
     "data": {
      "text/plain": [
       "[<matplotlib.lines.Line2D at 0x1d116eba150>]"
      ]
     },
     "execution_count": 61,
     "metadata": {},
     "output_type": "execute_result"
    },
    {
     "data": {
      "image/png": "[encoded data removed]",
      "text/plain": [
       "<Figure size 640x480 with 1 Axes>"
      ]
     },
     "metadata": {},
     "output_type": "display_data"
    }
   ],
   "source": [
    "plt.plot(dataport_index)"
   ]
  },
  {
   "cell_type": "code",
   "execution_count": null,
   "metadata": {},
   "outputs": [
    {
     "data": {
      "text/plain": [
       "Date\n",
       "2020-01-02 00:00:00-05:00     1.000000\n",
       "2020-01-03 00:00:00-05:00     1.000000\n",
       "2020-01-06 00:00:00-05:00     1.000000\n",
       "2020-01-07 00:00:00-05:00     1.000000\n",
       "2020-01-08 00:00:00-05:00     1.000000\n",
       "                               ...    \n",
       "2023-12-22 00:00:00-05:00    10.472737\n",
       "2023-12-26 00:00:00-05:00    10.544459\n",
       "2023-12-27 00:00:00-05:00    10.651682\n",
       "2023-12-28 00:00:00-05:00    10.686472\n",
       "2023-12-29 00:00:00-05:00          NaN\n",
       "Name: port_avg, Length: 1006, dtype: float64"
      ]
     },
     "execution_count": 60,
     "metadata": {},
     "output_type": "execute_result"
    }
   ],
   "source": [
    "dataport_index"
   ]
  },
  {
   "cell_type": "code",
   "execution_count": null,
   "metadata": {},
   "outputs": [
    {
     "data": {
      "text/plain": [
       "[<matplotlib.lines.Line2D at 0x1d1176eb5f0>]"
      ]
     },
     "execution_count": 62,
     "metadata": {},
     "output_type": "execute_result"
    },
    {
     "data": {
      "image/png": "[encoded data removed]",
      "text/plain": [
       "<Figure size 640x480 with 1 Axes>"
      ]
     },
     "metadata": {},
     "output_type": "display_data"
    }
   ],
   "source": [
    "plt.plot(df['port_avg'])"
   ]
  },
  {
   "cell_type": "code",
   "execution_count": null,
   "metadata": {},
   "outputs": [
    {
     "data": {
      "text/plain": [
       "Date\n",
       "2020-01-02 00:00:00-05:00     1.000000\n",
       "2020-01-03 00:00:00-05:00     1.000000\n",
       "2020-01-06 00:00:00-05:00     1.000000\n",
       "2020-01-07 00:00:00-05:00     1.000000\n",
       "2020-01-08 00:00:00-05:00     1.000000\n",
       "                               ...    \n",
       "2023-12-22 00:00:00-05:00    10.472737\n",
       "2023-12-26 00:00:00-05:00    10.544459\n",
       "2023-12-27 00:00:00-05:00    10.651682\n",
       "2023-12-28 00:00:00-05:00    10.686472\n",
       "2023-12-29 00:00:00-05:00          NaN\n",
       "Name: port_avg, Length: 1006, dtype: float64"
      ]
     },
     "execution_count": 56,
     "metadata": {},
     "output_type": "execute_result"
    }
   ],
   "source": [
    "dataport_index"
   ]
  },
  {
   "cell_type": "code",
   "execution_count": null,
   "metadata": {},
   "outputs": [],
   "source": [
    "# print (\"Annualized Sharpe Ratio = \", empyrical.sharpe_ratio(df['port_avg'], period='monthly'))\n",
    "# print (\"Annualized Mean Returns = \", empyrical.annual_return(df['port_avg'], period='monthly'))\n",
    "# print (\"Annualized Standard Deviations = \", empyrical.annual_volatility(df['port_avg'], period='monthly'))"
   ]
  },
  {
   "cell_type": "code",
   "execution_count": null,
   "metadata": {},
   "outputs": [],
   "source": [
    "# print(\"Max Drawdown = \", empyrical.max_drawdown(df['port_avg']))\n",
    "# print(\"Calmar ratio = \", empyrical.calmar_ratio(df['port_avg'], period='monthly'))"
   ]
  }
 ],
 "metadata": {
  "kernelspec": {
   "display_name": "Python 3",
   "language": "python",
   "name": "python3"
  },
  "language_info": {
   "codemirror_mode": {
    "name": "ipython",
    "version": 3
   },
   "file_extension": ".py",
   "mimetype": "text/x-python",
   "name": "python",
   "nbconvert_exporter": "python",
   "pygments_lexer": "ipython3",
   "version": "3.12.7"
  }
 },
 "nbformat": 4,
 "nbformat_minor": 2
}
